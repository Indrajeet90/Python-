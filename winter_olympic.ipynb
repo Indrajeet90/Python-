{
  "nbformat": 4,
  "nbformat_minor": 0,
  "metadata": {
    "colab": {
      "name": "winter olympic.ipynb",
      "version": "0.3.2",
      "provenance": [],
      "collapsed_sections": [],
      "include_colab_link": true
    },
    "kernelspec": {
      "name": "python3",
      "display_name": "Python 3"
    }
  },
  "cells": [
    {
      "cell_type": "markdown",
      "metadata": {
        "id": "view-in-github",
        "colab_type": "text"
      },
      "source": [
        "[View in Colaboratory](https://colab.research.google.com/github/Indrajeet90/Python-/blob/master/winter_olympic.ipynb)"
      ]
    },
    {
      "metadata": {
        "id": "caCQmJvyNmTs",
        "colab_type": "text"
      },
      "cell_type": "markdown",
      "source": [
        "**Explore and Visualize**"
      ]
    },
    {
      "metadata": {
        "id": "0BKm30iaNjB2",
        "colab_type": "text"
      },
      "cell_type": "markdown",
      "source": [
        "In this notebook, we will explore and visualize the olympic medals data that you added to your workbench in Tutorial #1 - Get Data. Specifically, this tutorial covers:\n",
        "\n",
        "Load data in memory using a pandas DataFrame\n",
        "Explore and manipulate data using DataFrame functions\n",
        "Group data by columns\n",
        "Calculate statistics over grouped data\n",
        "Plot data using the pre-installed matplotlib package\n",
        "Plot data using a third-party library\n",
        "We will do this in the context of answering the following questions:\n",
        "\n",
        "Which discipline and event has awarded the most gold medals?\n",
        "Which country has won the most gold, silver, and bronze medals"
      ]
    },
    {
      "metadata": {
        "id": "8HMJxQjSNiBU",
        "colab_type": "code",
        "colab": {}
      },
      "cell_type": "code",
      "source": [
        "import pandas as pd\n",
        "medals_df = pandas.read_csv('medals.csv')\n",
        "# Prune non-data rows\n",
        "medals_df = medals_df.dropna()"
      ],
      "execution_count": 0,
      "outputs": []
    },
    {
      "metadata": {
        "id": "zebtWRFnOnEH",
        "colab_type": "text"
      },
      "cell_type": "markdown",
      "source": [
        "**Explore**   \n",
        "So what does the olympic medal data look like? We can peek at the data and its structure by looking at the first few rows. The DataFrame's head() method exists for this purpose."
      ]
    },
    {
      "metadata": {
        "id": "1NOMctffOia0",
        "colab_type": "code",
        "colab": {
          "base_uri": "https://localhost:8080/",
          "height": 204
        },
        "outputId": "223a7cb6-4589-41c0-b909-d932fa756490"
      },
      "cell_type": "code",
      "source": [
        "medals_df.head()"
      ],
      "execution_count": 3,
      "outputs": [
        {
          "output_type": "execute_result",
          "data": {
            "text/html": [
              "<div>\n",
              "<style scoped>\n",
              "    .dataframe tbody tr th:only-of-type {\n",
              "        vertical-align: middle;\n",
              "    }\n",
              "\n",
              "    .dataframe tbody tr th {\n",
              "        vertical-align: top;\n",
              "    }\n",
              "\n",
              "    .dataframe thead th {\n",
              "        text-align: right;\n",
              "    }\n",
              "</style>\n",
              "<table border=\"1\" class=\"dataframe\">\n",
              "  <thead>\n",
              "    <tr style=\"text-align: right;\">\n",
              "      <th></th>\n",
              "      <th>Year</th>\n",
              "      <th>City</th>\n",
              "      <th>Sport</th>\n",
              "      <th>Discipline</th>\n",
              "      <th>NOC</th>\n",
              "      <th>Event</th>\n",
              "      <th>Event gender</th>\n",
              "      <th>Medal</th>\n",
              "    </tr>\n",
              "  </thead>\n",
              "  <tbody>\n",
              "    <tr>\n",
              "      <th>0</th>\n",
              "      <td>1924</td>\n",
              "      <td>Chamonix</td>\n",
              "      <td>Skating</td>\n",
              "      <td>Figure skating</td>\n",
              "      <td>AUT</td>\n",
              "      <td>individual</td>\n",
              "      <td>M</td>\n",
              "      <td>Silver</td>\n",
              "    </tr>\n",
              "    <tr>\n",
              "      <th>1</th>\n",
              "      <td>1924</td>\n",
              "      <td>Chamonix</td>\n",
              "      <td>Skating</td>\n",
              "      <td>Figure skating</td>\n",
              "      <td>AUT</td>\n",
              "      <td>individual</td>\n",
              "      <td>W</td>\n",
              "      <td>Gold</td>\n",
              "    </tr>\n",
              "    <tr>\n",
              "      <th>2</th>\n",
              "      <td>1924</td>\n",
              "      <td>Chamonix</td>\n",
              "      <td>Skating</td>\n",
              "      <td>Figure skating</td>\n",
              "      <td>AUT</td>\n",
              "      <td>pairs</td>\n",
              "      <td>X</td>\n",
              "      <td>Gold</td>\n",
              "    </tr>\n",
              "    <tr>\n",
              "      <th>3</th>\n",
              "      <td>1924</td>\n",
              "      <td>Chamonix</td>\n",
              "      <td>Bobsleigh</td>\n",
              "      <td>Bobsleigh</td>\n",
              "      <td>BEL</td>\n",
              "      <td>four-man</td>\n",
              "      <td>M</td>\n",
              "      <td>Bronze</td>\n",
              "    </tr>\n",
              "    <tr>\n",
              "      <th>4</th>\n",
              "      <td>1924</td>\n",
              "      <td>Chamonix</td>\n",
              "      <td>Ice Hockey</td>\n",
              "      <td>Ice Hockey</td>\n",
              "      <td>CAN</td>\n",
              "      <td>ice hockey</td>\n",
              "      <td>M</td>\n",
              "      <td>Gold</td>\n",
              "    </tr>\n",
              "  </tbody>\n",
              "</table>\n",
              "</div>"
            ],
            "text/plain": [
              "   Year      City       Sport      Discipline  NOC       Event Event gender  \\\n",
              "0  1924  Chamonix     Skating  Figure skating  AUT  individual            M   \n",
              "1  1924  Chamonix     Skating  Figure skating  AUT  individual            W   \n",
              "2  1924  Chamonix     Skating  Figure skating  AUT       pairs            X   \n",
              "3  1924  Chamonix   Bobsleigh       Bobsleigh  BEL    four-man            M   \n",
              "4  1924  Chamonix  Ice Hockey      Ice Hockey  CAN  ice hockey            M   \n",
              "\n",
              "    Medal  \n",
              "0  Silver  \n",
              "1    Gold  \n",
              "2    Gold  \n",
              "3  Bronze  \n",
              "4    Gold  "
            ]
          },
          "metadata": {
            "tags": []
          },
          "execution_count": 3
        }
      ]
    },
    {
      "metadata": {
        "id": "DFcKgeCtOxkg",
        "colab_type": "text"
      },
      "cell_type": "markdown",
      "source": [
        "Each row provides:\n",
        "*  The year the medal was awarded\n",
        "*  The city where the games took place\n",
        "*  The sport and discipline\n",
        "*  The specific event\n",
        "*  The nationality of the medal winner\n",
        "*  The gender of the medal winner\n",
        "*  The type of medal\n",
        "\n",
        "A first logical question might be, for what time period does the data apply? To find out, we turn our attention to the 'Year' column, which we can access directly from the DataFrame object. We can invoke the built-in min() and max() functions on the column (which is a pandas Series)."
      ]
    },
    {
      "metadata": {
        "id": "IIIYSHJuOse8",
        "colab_type": "code",
        "colab": {
          "base_uri": "https://localhost:8080/",
          "height": 34
        },
        "outputId": "e6a44371-37a8-42db-c392-ef87ea6d0b5d"
      },
      "cell_type": "code",
      "source": [
        "medals_df.Year.min(), medals_df.Year.max()"
      ],
      "execution_count": 4,
      "outputs": [
        {
          "output_type": "execute_result",
          "data": {
            "text/plain": [
              "('1924', '2006')"
            ]
          },
          "metadata": {
            "tags": []
          },
          "execution_count": 4
        }
      ]
    },
    {
      "metadata": {
        "id": "osWZLv2_Pbpm",
        "colab_type": "text"
      },
      "cell_type": "markdown",
      "source": [
        "To be more precise, we can list all years for which we have medal data."
      ]
    },
    {
      "metadata": {
        "id": "VUwgjz-9PZED",
        "colab_type": "code",
        "colab": {
          "base_uri": "https://localhost:8080/",
          "height": 68
        },
        "outputId": "a50f03d9-60fc-4320-e21a-d7a3d9582576"
      },
      "cell_type": "code",
      "source": [
        "medals_df.Year.unique()"
      ],
      "execution_count": 6,
      "outputs": [
        {
          "output_type": "execute_result",
          "data": {
            "text/plain": [
              "array(['1924', '1928', '1932', '1936', '1948', '1952', '1956', '1960',\n",
              "       '1964', '1968', '1972', '1976', '1980', '1984', '1988', '1992',\n",
              "       '1994', '1998', '2002', '2006'], dtype=object)"
            ]
          },
          "metadata": {
            "tags": []
          },
          "execution_count": 6
        }
      ]
    },
    {
      "metadata": {
        "id": "ftZrCuT8PlMO",
        "colab_type": "text"
      },
      "cell_type": "markdown",
      "source": [
        "OK. So it looks like we have medal data for all winter olympics from 1924 through 2006.\n",
        "\n",
        "Next question: How many medals have been awarded? The easiest way to find out is to count the rows using Python's built-in len() function, which returns the number of rows."
      ]
    },
    {
      "metadata": {
        "id": "mbuISjURPfEC",
        "colab_type": "code",
        "colab": {
          "base_uri": "https://localhost:8080/",
          "height": 34
        },
        "outputId": "75b58432-9471-4b48-a0cf-8cbbd7082e16"
      },
      "cell_type": "code",
      "source": [
        "# number of rows\n",
        "len(medals_df)"
      ],
      "execution_count": 7,
      "outputs": [
        {
          "output_type": "execute_result",
          "data": {
            "text/plain": [
              "2311"
            ]
          },
          "metadata": {
            "tags": []
          },
          "execution_count": 7
        }
      ]
    },
    {
      "metadata": {
        "id": "5oPxe8ubPwAO",
        "colab_type": "text"
      },
      "cell_type": "markdown",
      "source": [
        "How about a sanity check? What are the distinct medal colors for all medals awarded? And how many of each color were awarded? We can answer these questions without much effort. Here we access the DataFrame's Medal column and invoke built-in functions on the resulting Series."
      ]
    },
    {
      "metadata": {
        "id": "o3bFrCV7Pq3K",
        "colab_type": "code",
        "colab": {
          "base_uri": "https://localhost:8080/",
          "height": 34
        },
        "outputId": "e636a8ac-b464-49ca-ff70-e6849ea3bade"
      },
      "cell_type": "code",
      "source": [
        "print(\" Distinct medal colors awarded:\",medals_df.Medal.unique())"
      ],
      "execution_count": 10,
      "outputs": [
        {
          "output_type": "stream",
          "text": [
            " Distinct medal colors awarded: ['Silver' 'Gold' 'Bronze']\n"
          ],
          "name": "stdout"
        }
      ]
    },
    {
      "metadata": {
        "id": "wRShTtWJP2x6",
        "colab_type": "code",
        "colab": {
          "base_uri": "https://localhost:8080/",
          "height": 85
        },
        "outputId": "a1a1a4cb-37c9-4121-d717-ea44455506f3"
      },
      "cell_type": "code",
      "source": [
        "medals_df.Medal.value_counts()"
      ],
      "execution_count": 11,
      "outputs": [
        {
          "output_type": "execute_result",
          "data": {
            "text/plain": [
              "Gold      774\n",
              "Silver    773\n",
              "Bronze    764\n",
              "Name: Medal, dtype: int64"
            ]
          },
          "metadata": {
            "tags": []
          },
          "execution_count": 11
        }
      ]
    },
    {
      "metadata": {
        "id": "nJk-q2K1QUq0",
        "colab_type": "text"
      },
      "cell_type": "markdown",
      "source": [
        "Well, these results make sense.\n",
        "\n",
        "Let us now list all the winter olympic sports and disciplines that have awarded medals. To do this, we first use the DataFrame grouby() function to group all medal data by sport and discipline. We then list the keys used to identify each group."
      ]
    },
    {
      "metadata": {
        "id": "2JiEwdM8QOCB",
        "colab_type": "code",
        "colab": {
          "base_uri": "https://localhost:8080/",
          "height": 54
        },
        "outputId": "04e4ef14-425f-452f-d299-ac0bf44dd79b"
      },
      "cell_type": "code",
      "source": [
        "# grouping medal data by sports and discipline\n",
        "disciplines = medals_df.groupby(['Sport','Discipline'])\n",
        "disciplines.groups.keys()"
      ],
      "execution_count": 12,
      "outputs": [
        {
          "output_type": "execute_result",
          "data": {
            "text/plain": [
              "dict_keys([('Biathlon', 'Biathlon'), ('Bobsleigh', 'Bobsleigh'), ('Bobsleigh', 'Skeleton'), ('Curling', 'Curling'), ('Ice Hockey', 'Ice Hockey'), ('Luge', 'Luge'), ('Skating', 'Figure skating'), ('Skating', 'Short Track S.'), ('Skating', 'Speed skating'), ('Skiing', 'Alpine Skiing'), ('Skiing', 'Cross Country S'), ('Skiing', 'Freestyle Ski.'), ('Skiing', 'Nordic Combined'), ('Skiing', 'Ski Jumping'), ('Skiing', 'Snowboard')])"
            ]
          },
          "metadata": {
            "tags": []
          },
          "execution_count": 12
        }
      ]
    },
    {
      "metadata": {
        "id": "iBWIayY4QppT",
        "colab_type": "text"
      },
      "cell_type": "markdown",
      "source": [
        "**Which discipline and event has awarded the most gold medals?**   \n",
        "The first step we must take to answer this question is to filter our data. We want to ensure we only consider gold medals. We can apply a filter to our DataFrame by selecting records using a boolean indicator. We store the result in a new DataFrame."
      ]
    },
    {
      "metadata": {
        "id": "hLo7M5StQhNg",
        "colab_type": "code",
        "colab": {}
      },
      "cell_type": "code",
      "source": [
        "# creating only gold medals dataframe\n",
        "gold_df = medals_df[medals_df.Medal == 'Gold']"
      ],
      "execution_count": 0,
      "outputs": []
    },
    {
      "metadata": {
        "id": "J56kvdMDQ6pT",
        "colab_type": "text"
      },
      "cell_type": "markdown",
      "source": [
        "Next, we want to group the gold medals by the Discipline and Event columns. The result gives us the gold medals awarded by event."
      ]
    },
    {
      "metadata": {
        "id": "bCmLrlv0Q9kH",
        "colab_type": "code",
        "colab": {}
      },
      "cell_type": "code",
      "source": [
        "# group gold medals by discipline and event\n",
        "by_event = gold_df.groupby(['Discipline','Event'])"
      ],
      "execution_count": 0,
      "outputs": []
    },
    {
      "metadata": {
        "id": "tcGDU95dRwbT",
        "colab_type": "code",
        "colab": {
          "base_uri": "https://localhost:8080/",
          "height": 1969
        },
        "outputId": "2d0a1aa8-b0ad-4680-c86d-20900879c492"
      },
      "cell_type": "code",
      "source": [
        "by_event.head()"
      ],
      "execution_count": 25,
      "outputs": [
        {
          "output_type": "execute_result",
          "data": {
            "text/html": [
              "<div>\n",
              "<style scoped>\n",
              "    .dataframe tbody tr th:only-of-type {\n",
              "        vertical-align: middle;\n",
              "    }\n",
              "\n",
              "    .dataframe tbody tr th {\n",
              "        vertical-align: top;\n",
              "    }\n",
              "\n",
              "    .dataframe thead th {\n",
              "        text-align: right;\n",
              "    }\n",
              "</style>\n",
              "<table border=\"1\" class=\"dataframe\">\n",
              "  <thead>\n",
              "    <tr style=\"text-align: right;\">\n",
              "      <th></th>\n",
              "      <th>Year</th>\n",
              "      <th>City</th>\n",
              "      <th>Sport</th>\n",
              "      <th>Discipline</th>\n",
              "      <th>NOC</th>\n",
              "      <th>Event</th>\n",
              "      <th>Event gender</th>\n",
              "      <th>Medal</th>\n",
              "    </tr>\n",
              "  </thead>\n",
              "  <tbody>\n",
              "    <tr>\n",
              "      <th>1</th>\n",
              "      <td>1924</td>\n",
              "      <td>Chamonix</td>\n",
              "      <td>Skating</td>\n",
              "      <td>Figure skating</td>\n",
              "      <td>AUT</td>\n",
              "      <td>individual</td>\n",
              "      <td>W</td>\n",
              "      <td>Gold</td>\n",
              "    </tr>\n",
              "    <tr>\n",
              "      <th>2</th>\n",
              "      <td>1924</td>\n",
              "      <td>Chamonix</td>\n",
              "      <td>Skating</td>\n",
              "      <td>Figure skating</td>\n",
              "      <td>AUT</td>\n",
              "      <td>pairs</td>\n",
              "      <td>X</td>\n",
              "      <td>Gold</td>\n",
              "    </tr>\n",
              "    <tr>\n",
              "      <th>4</th>\n",
              "      <td>1924</td>\n",
              "      <td>Chamonix</td>\n",
              "      <td>Ice Hockey</td>\n",
              "      <td>Ice Hockey</td>\n",
              "      <td>CAN</td>\n",
              "      <td>ice hockey</td>\n",
              "      <td>M</td>\n",
              "      <td>Gold</td>\n",
              "    </tr>\n",
              "    <tr>\n",
              "      <th>7</th>\n",
              "      <td>1924</td>\n",
              "      <td>Chamonix</td>\n",
              "      <td>Skating</td>\n",
              "      <td>Speed skating</td>\n",
              "      <td>FIN</td>\n",
              "      <td>10000m</td>\n",
              "      <td>M</td>\n",
              "      <td>Gold</td>\n",
              "    </tr>\n",
              "    <tr>\n",
              "      <th>9</th>\n",
              "      <td>1924</td>\n",
              "      <td>Chamonix</td>\n",
              "      <td>Skating</td>\n",
              "      <td>Speed skating</td>\n",
              "      <td>FIN</td>\n",
              "      <td>1500m</td>\n",
              "      <td>M</td>\n",
              "      <td>Gold</td>\n",
              "    </tr>\n",
              "    <tr>\n",
              "      <th>10</th>\n",
              "      <td>1924</td>\n",
              "      <td>Chamonix</td>\n",
              "      <td>Skating</td>\n",
              "      <td>Speed skating</td>\n",
              "      <td>FIN</td>\n",
              "      <td>5000m</td>\n",
              "      <td>M</td>\n",
              "      <td>Gold</td>\n",
              "    </tr>\n",
              "    <tr>\n",
              "      <th>14</th>\n",
              "      <td>1924</td>\n",
              "      <td>Chamonix</td>\n",
              "      <td>Skating</td>\n",
              "      <td>Speed skating</td>\n",
              "      <td>FIN</td>\n",
              "      <td>combined (4 events)</td>\n",
              "      <td>M</td>\n",
              "      <td>Gold</td>\n",
              "    </tr>\n",
              "    <tr>\n",
              "      <th>20</th>\n",
              "      <td>1924</td>\n",
              "      <td>Chamonix</td>\n",
              "      <td>Curling</td>\n",
              "      <td>Curling</td>\n",
              "      <td>GBR</td>\n",
              "      <td>curling</td>\n",
              "      <td>M</td>\n",
              "      <td>Gold</td>\n",
              "    </tr>\n",
              "    <tr>\n",
              "      <th>30</th>\n",
              "      <td>1924</td>\n",
              "      <td>Chamonix</td>\n",
              "      <td>Skiing</td>\n",
              "      <td>Cross Country S</td>\n",
              "      <td>NOR</td>\n",
              "      <td>18km</td>\n",
              "      <td>M</td>\n",
              "      <td>Gold</td>\n",
              "    </tr>\n",
              "    <tr>\n",
              "      <th>33</th>\n",
              "      <td>1924</td>\n",
              "      <td>Chamonix</td>\n",
              "      <td>Skiing</td>\n",
              "      <td>Cross Country S</td>\n",
              "      <td>NOR</td>\n",
              "      <td>50km</td>\n",
              "      <td>M</td>\n",
              "      <td>Gold</td>\n",
              "    </tr>\n",
              "    <tr>\n",
              "      <th>36</th>\n",
              "      <td>1924</td>\n",
              "      <td>Chamonix</td>\n",
              "      <td>Skiing</td>\n",
              "      <td>Nordic Combined</td>\n",
              "      <td>NOR</td>\n",
              "      <td>individual</td>\n",
              "      <td>M</td>\n",
              "      <td>Gold</td>\n",
              "    </tr>\n",
              "    <tr>\n",
              "      <th>38</th>\n",
              "      <td>1924</td>\n",
              "      <td>Chamonix</td>\n",
              "      <td>Skiing</td>\n",
              "      <td>Ski Jumping</td>\n",
              "      <td>NOR</td>\n",
              "      <td>K90 individual (70m)</td>\n",
              "      <td>M</td>\n",
              "      <td>Gold</td>\n",
              "    </tr>\n",
              "    <tr>\n",
              "      <th>40</th>\n",
              "      <td>1924</td>\n",
              "      <td>Chamonix</td>\n",
              "      <td>Biathlon</td>\n",
              "      <td>Biathlon</td>\n",
              "      <td>SUI</td>\n",
              "      <td>military patrol</td>\n",
              "      <td>M</td>\n",
              "      <td>Gold</td>\n",
              "    </tr>\n",
              "    <tr>\n",
              "      <th>41</th>\n",
              "      <td>1924</td>\n",
              "      <td>Chamonix</td>\n",
              "      <td>Bobsleigh</td>\n",
              "      <td>Bobsleigh</td>\n",
              "      <td>SUI</td>\n",
              "      <td>four-man</td>\n",
              "      <td>M</td>\n",
              "      <td>Gold</td>\n",
              "    </tr>\n",
              "    <tr>\n",
              "      <th>44</th>\n",
              "      <td>1924</td>\n",
              "      <td>Chamonix</td>\n",
              "      <td>Skating</td>\n",
              "      <td>Figure skating</td>\n",
              "      <td>SWE</td>\n",
              "      <td>individual</td>\n",
              "      <td>M</td>\n",
              "      <td>Gold</td>\n",
              "    </tr>\n",
              "    <tr>\n",
              "      <th>47</th>\n",
              "      <td>1924</td>\n",
              "      <td>Chamonix</td>\n",
              "      <td>Skating</td>\n",
              "      <td>Speed skating</td>\n",
              "      <td>USA</td>\n",
              "      <td>500m</td>\n",
              "      <td>M</td>\n",
              "      <td>Gold</td>\n",
              "    </tr>\n",
              "    <tr>\n",
              "      <th>54</th>\n",
              "      <td>1928</td>\n",
              "      <td>St. Moritz</td>\n",
              "      <td>Ice Hockey</td>\n",
              "      <td>Ice Hockey</td>\n",
              "      <td>CAN</td>\n",
              "      <td>ice hockey</td>\n",
              "      <td>M</td>\n",
              "      <td>Gold</td>\n",
              "    </tr>\n",
              "    <tr>\n",
              "      <th>55</th>\n",
              "      <td>1928</td>\n",
              "      <td>St. Moritz</td>\n",
              "      <td>Skating</td>\n",
              "      <td>Speed skating</td>\n",
              "      <td>FIN</td>\n",
              "      <td>1500m</td>\n",
              "      <td>M</td>\n",
              "      <td>Gold</td>\n",
              "    </tr>\n",
              "    <tr>\n",
              "      <th>58</th>\n",
              "      <td>1928</td>\n",
              "      <td>St. Moritz</td>\n",
              "      <td>Skating</td>\n",
              "      <td>Speed skating</td>\n",
              "      <td>FIN</td>\n",
              "      <td>500m</td>\n",
              "      <td>M</td>\n",
              "      <td>Gold</td>\n",
              "    </tr>\n",
              "    <tr>\n",
              "      <th>59</th>\n",
              "      <td>1928</td>\n",
              "      <td>St. Moritz</td>\n",
              "      <td>Skating</td>\n",
              "      <td>Figure skating</td>\n",
              "      <td>FRA</td>\n",
              "      <td>pairs</td>\n",
              "      <td>X</td>\n",
              "      <td>Gold</td>\n",
              "    </tr>\n",
              "    <tr>\n",
              "      <th>62</th>\n",
              "      <td>1928</td>\n",
              "      <td>St. Moritz</td>\n",
              "      <td>Skating</td>\n",
              "      <td>Figure skating</td>\n",
              "      <td>NOR</td>\n",
              "      <td>individual</td>\n",
              "      <td>W</td>\n",
              "      <td>Gold</td>\n",
              "    </tr>\n",
              "    <tr>\n",
              "      <th>66</th>\n",
              "      <td>1928</td>\n",
              "      <td>St. Moritz</td>\n",
              "      <td>Skating</td>\n",
              "      <td>Speed skating</td>\n",
              "      <td>NOR</td>\n",
              "      <td>5000m</td>\n",
              "      <td>M</td>\n",
              "      <td>Gold</td>\n",
              "    </tr>\n",
              "    <tr>\n",
              "      <th>68</th>\n",
              "      <td>1928</td>\n",
              "      <td>St. Moritz</td>\n",
              "      <td>Skating</td>\n",
              "      <td>Speed skating</td>\n",
              "      <td>NOR</td>\n",
              "      <td>500m</td>\n",
              "      <td>M</td>\n",
              "      <td>Gold</td>\n",
              "    </tr>\n",
              "    <tr>\n",
              "      <th>70</th>\n",
              "      <td>1928</td>\n",
              "      <td>St. Moritz</td>\n",
              "      <td>Skiing</td>\n",
              "      <td>Cross Country S</td>\n",
              "      <td>NOR</td>\n",
              "      <td>18km</td>\n",
              "      <td>M</td>\n",
              "      <td>Gold</td>\n",
              "    </tr>\n",
              "    <tr>\n",
              "      <th>73</th>\n",
              "      <td>1928</td>\n",
              "      <td>St. Moritz</td>\n",
              "      <td>Skiing</td>\n",
              "      <td>Nordic Combined</td>\n",
              "      <td>NOR</td>\n",
              "      <td>individual</td>\n",
              "      <td>M</td>\n",
              "      <td>Gold</td>\n",
              "    </tr>\n",
              "    <tr>\n",
              "      <th>75</th>\n",
              "      <td>1928</td>\n",
              "      <td>St. Moritz</td>\n",
              "      <td>Skiing</td>\n",
              "      <td>Ski Jumping</td>\n",
              "      <td>NOR</td>\n",
              "      <td>K90 individual (70m)</td>\n",
              "      <td>M</td>\n",
              "      <td>Gold</td>\n",
              "    </tr>\n",
              "    <tr>\n",
              "      <th>79</th>\n",
              "      <td>1928</td>\n",
              "      <td>St. Moritz</td>\n",
              "      <td>Skating</td>\n",
              "      <td>Figure skating</td>\n",
              "      <td>SWE</td>\n",
              "      <td>individual</td>\n",
              "      <td>M</td>\n",
              "      <td>Gold</td>\n",
              "    </tr>\n",
              "    <tr>\n",
              "      <th>81</th>\n",
              "      <td>1928</td>\n",
              "      <td>St. Moritz</td>\n",
              "      <td>Skiing</td>\n",
              "      <td>Cross Country S</td>\n",
              "      <td>SWE</td>\n",
              "      <td>50km</td>\n",
              "      <td>M</td>\n",
              "      <td>Gold</td>\n",
              "    </tr>\n",
              "    <tr>\n",
              "      <th>84</th>\n",
              "      <td>1928</td>\n",
              "      <td>St. Moritz</td>\n",
              "      <td>Bobsleigh</td>\n",
              "      <td>Bobsleigh</td>\n",
              "      <td>USA</td>\n",
              "      <td>five-man</td>\n",
              "      <td>M</td>\n",
              "      <td>Gold</td>\n",
              "    </tr>\n",
              "    <tr>\n",
              "      <th>86</th>\n",
              "      <td>1928</td>\n",
              "      <td>St. Moritz</td>\n",
              "      <td>Bobsleigh</td>\n",
              "      <td>Skeleton</td>\n",
              "      <td>USA</td>\n",
              "      <td>individual</td>\n",
              "      <td>M</td>\n",
              "      <td>Gold</td>\n",
              "    </tr>\n",
              "    <tr>\n",
              "      <th>...</th>\n",
              "      <td>...</td>\n",
              "      <td>...</td>\n",
              "      <td>...</td>\n",
              "      <td>...</td>\n",
              "      <td>...</td>\n",
              "      <td>...</td>\n",
              "      <td>...</td>\n",
              "      <td>...</td>\n",
              "    </tr>\n",
              "    <tr>\n",
              "      <th>2078</th>\n",
              "      <td>2006</td>\n",
              "      <td>Turin</td>\n",
              "      <td>Skiing</td>\n",
              "      <td>Nordic Combined</td>\n",
              "      <td>AUT</td>\n",
              "      <td>Individual sprint</td>\n",
              "      <td>M</td>\n",
              "      <td>Gold</td>\n",
              "    </tr>\n",
              "    <tr>\n",
              "      <th>2087</th>\n",
              "      <td>2006</td>\n",
              "      <td>Turin</td>\n",
              "      <td>Bobsleigh</td>\n",
              "      <td>Skeleton</td>\n",
              "      <td>CAN</td>\n",
              "      <td>individual</td>\n",
              "      <td>M</td>\n",
              "      <td>Gold</td>\n",
              "    </tr>\n",
              "    <tr>\n",
              "      <th>2106</th>\n",
              "      <td>2006</td>\n",
              "      <td>Turin</td>\n",
              "      <td>Skiing</td>\n",
              "      <td>Cross Country S</td>\n",
              "      <td>CAN</td>\n",
              "      <td>sprint 1.5km</td>\n",
              "      <td>W</td>\n",
              "      <td>Gold</td>\n",
              "    </tr>\n",
              "    <tr>\n",
              "      <th>2122</th>\n",
              "      <td>2006</td>\n",
              "      <td>Turin</td>\n",
              "      <td>Skiing</td>\n",
              "      <td>Alpine Skiing</td>\n",
              "      <td>CRO</td>\n",
              "      <td>Alpine combined</td>\n",
              "      <td>W</td>\n",
              "      <td>Gold</td>\n",
              "    </tr>\n",
              "    <tr>\n",
              "      <th>2126</th>\n",
              "      <td>2006</td>\n",
              "      <td>Turin</td>\n",
              "      <td>Skiing</td>\n",
              "      <td>Cross Country S</td>\n",
              "      <td>CZE</td>\n",
              "      <td>30km</td>\n",
              "      <td>W</td>\n",
              "      <td>Gold</td>\n",
              "    </tr>\n",
              "    <tr>\n",
              "      <th>2130</th>\n",
              "      <td>2006</td>\n",
              "      <td>Turin</td>\n",
              "      <td>Skiing</td>\n",
              "      <td>Cross Country S</td>\n",
              "      <td>EST</td>\n",
              "      <td>Combined 7.5 + 7.5km mass start</td>\n",
              "      <td>W</td>\n",
              "      <td>Gold</td>\n",
              "    </tr>\n",
              "    <tr>\n",
              "      <th>2140</th>\n",
              "      <td>2006</td>\n",
              "      <td>Turin</td>\n",
              "      <td>Biathlon</td>\n",
              "      <td>Biathlon</td>\n",
              "      <td>FRA</td>\n",
              "      <td>12.5km pursuit</td>\n",
              "      <td>M</td>\n",
              "      <td>Gold</td>\n",
              "    </tr>\n",
              "    <tr>\n",
              "      <th>2143</th>\n",
              "      <td>2006</td>\n",
              "      <td>Turin</td>\n",
              "      <td>Biathlon</td>\n",
              "      <td>Biathlon</td>\n",
              "      <td>FRA</td>\n",
              "      <td>7.5km</td>\n",
              "      <td>W</td>\n",
              "      <td>Gold</td>\n",
              "    </tr>\n",
              "    <tr>\n",
              "      <th>2151</th>\n",
              "      <td>2006</td>\n",
              "      <td>Turin</td>\n",
              "      <td>Biathlon</td>\n",
              "      <td>Biathlon</td>\n",
              "      <td>GER</td>\n",
              "      <td>10km pursuit</td>\n",
              "      <td>W</td>\n",
              "      <td>Gold</td>\n",
              "    </tr>\n",
              "    <tr>\n",
              "      <th>2157</th>\n",
              "      <td>2006</td>\n",
              "      <td>Turin</td>\n",
              "      <td>Biathlon</td>\n",
              "      <td>Biathlon</td>\n",
              "      <td>GER</td>\n",
              "      <td>15km mass start</td>\n",
              "      <td>M</td>\n",
              "      <td>Gold</td>\n",
              "    </tr>\n",
              "    <tr>\n",
              "      <th>2170</th>\n",
              "      <td>2006</td>\n",
              "      <td>Turin</td>\n",
              "      <td>Skating</td>\n",
              "      <td>Speed skating</td>\n",
              "      <td>GER</td>\n",
              "      <td>Team pursuit</td>\n",
              "      <td>W</td>\n",
              "      <td>Gold</td>\n",
              "    </tr>\n",
              "    <tr>\n",
              "      <th>2175</th>\n",
              "      <td>2006</td>\n",
              "      <td>Turin</td>\n",
              "      <td>Skiing</td>\n",
              "      <td>Nordic Combined</td>\n",
              "      <td>GER</td>\n",
              "      <td>Individual</td>\n",
              "      <td>M</td>\n",
              "      <td>Gold</td>\n",
              "    </tr>\n",
              "    <tr>\n",
              "      <th>2185</th>\n",
              "      <td>2006</td>\n",
              "      <td>Turin</td>\n",
              "      <td>Skating</td>\n",
              "      <td>Speed skating</td>\n",
              "      <td>ITA</td>\n",
              "      <td>Team pursuit</td>\n",
              "      <td>M</td>\n",
              "      <td>Gold</td>\n",
              "    </tr>\n",
              "    <tr>\n",
              "      <th>2194</th>\n",
              "      <td>2006</td>\n",
              "      <td>Turin</td>\n",
              "      <td>Skating</td>\n",
              "      <td>Short Track S.</td>\n",
              "      <td>KOR</td>\n",
              "      <td>1500m</td>\n",
              "      <td>M</td>\n",
              "      <td>Gold</td>\n",
              "    </tr>\n",
              "    <tr>\n",
              "      <th>2196</th>\n",
              "      <td>2006</td>\n",
              "      <td>Turin</td>\n",
              "      <td>Skating</td>\n",
              "      <td>Short Track S.</td>\n",
              "      <td>KOR</td>\n",
              "      <td>1500m</td>\n",
              "      <td>W</td>\n",
              "      <td>Gold</td>\n",
              "    </tr>\n",
              "    <tr>\n",
              "      <th>2198</th>\n",
              "      <td>2006</td>\n",
              "      <td>Turin</td>\n",
              "      <td>Skating</td>\n",
              "      <td>Short Track S.</td>\n",
              "      <td>KOR</td>\n",
              "      <td>3000m relay</td>\n",
              "      <td>W</td>\n",
              "      <td>Gold</td>\n",
              "    </tr>\n",
              "    <tr>\n",
              "      <th>2199</th>\n",
              "      <td>2006</td>\n",
              "      <td>Turin</td>\n",
              "      <td>Skating</td>\n",
              "      <td>Short Track S.</td>\n",
              "      <td>KOR</td>\n",
              "      <td>5000m relay</td>\n",
              "      <td>M</td>\n",
              "      <td>Gold</td>\n",
              "    </tr>\n",
              "    <tr>\n",
              "      <th>2235</th>\n",
              "      <td>2006</td>\n",
              "      <td>Turin</td>\n",
              "      <td>Biathlon</td>\n",
              "      <td>Biathlon</td>\n",
              "      <td>RUS</td>\n",
              "      <td>15km</td>\n",
              "      <td>W</td>\n",
              "      <td>Gold</td>\n",
              "    </tr>\n",
              "    <tr>\n",
              "      <th>2236</th>\n",
              "      <td>2006</td>\n",
              "      <td>Turin</td>\n",
              "      <td>Biathlon</td>\n",
              "      <td>Biathlon</td>\n",
              "      <td>RUS</td>\n",
              "      <td>4x6km relay</td>\n",
              "      <td>W</td>\n",
              "      <td>Gold</td>\n",
              "    </tr>\n",
              "    <tr>\n",
              "      <th>2250</th>\n",
              "      <td>2006</td>\n",
              "      <td>Turin</td>\n",
              "      <td>Skiing</td>\n",
              "      <td>Cross Country S</td>\n",
              "      <td>RUS</td>\n",
              "      <td>Combined 15 + 15km mass start</td>\n",
              "      <td>M</td>\n",
              "      <td>Gold</td>\n",
              "    </tr>\n",
              "    <tr>\n",
              "      <th>2265</th>\n",
              "      <td>2006</td>\n",
              "      <td>Turin</td>\n",
              "      <td>Skiing</td>\n",
              "      <td>Snowboard</td>\n",
              "      <td>SUI</td>\n",
              "      <td>Giant parallel slalom</td>\n",
              "      <td>M</td>\n",
              "      <td>Gold</td>\n",
              "    </tr>\n",
              "    <tr>\n",
              "      <th>2267</th>\n",
              "      <td>2006</td>\n",
              "      <td>Turin</td>\n",
              "      <td>Skiing</td>\n",
              "      <td>Snowboard</td>\n",
              "      <td>SUI</td>\n",
              "      <td>Giant parallel slalom</td>\n",
              "      <td>W</td>\n",
              "      <td>Gold</td>\n",
              "    </tr>\n",
              "    <tr>\n",
              "      <th>2268</th>\n",
              "      <td>2006</td>\n",
              "      <td>Turin</td>\n",
              "      <td>Skiing</td>\n",
              "      <td>Snowboard</td>\n",
              "      <td>SUI</td>\n",
              "      <td>Snowboard Cross</td>\n",
              "      <td>W</td>\n",
              "      <td>Gold</td>\n",
              "    </tr>\n",
              "    <tr>\n",
              "      <th>2270</th>\n",
              "      <td>2006</td>\n",
              "      <td>Turin</td>\n",
              "      <td>Biathlon</td>\n",
              "      <td>Biathlon</td>\n",
              "      <td>SWE</td>\n",
              "      <td>12,5km mass start</td>\n",
              "      <td>W</td>\n",
              "      <td>Gold</td>\n",
              "    </tr>\n",
              "    <tr>\n",
              "      <th>2281</th>\n",
              "      <td>2006</td>\n",
              "      <td>Turin</td>\n",
              "      <td>Skiing</td>\n",
              "      <td>Cross Country S</td>\n",
              "      <td>SWE</td>\n",
              "      <td>Sprint 1,5km</td>\n",
              "      <td>M</td>\n",
              "      <td>Gold</td>\n",
              "    </tr>\n",
              "    <tr>\n",
              "      <th>2282</th>\n",
              "      <td>2006</td>\n",
              "      <td>Turin</td>\n",
              "      <td>Skiing</td>\n",
              "      <td>Cross Country S</td>\n",
              "      <td>SWE</td>\n",
              "      <td>Team sprint</td>\n",
              "      <td>M</td>\n",
              "      <td>Gold</td>\n",
              "    </tr>\n",
              "    <tr>\n",
              "      <th>2283</th>\n",
              "      <td>2006</td>\n",
              "      <td>Turin</td>\n",
              "      <td>Skiing</td>\n",
              "      <td>Cross Country S</td>\n",
              "      <td>SWE</td>\n",
              "      <td>Team sprint</td>\n",
              "      <td>W</td>\n",
              "      <td>Gold</td>\n",
              "    </tr>\n",
              "    <tr>\n",
              "      <th>2301</th>\n",
              "      <td>2006</td>\n",
              "      <td>Turin</td>\n",
              "      <td>Skiing</td>\n",
              "      <td>Alpine Skiing</td>\n",
              "      <td>USA</td>\n",
              "      <td>Alpine combined</td>\n",
              "      <td>M</td>\n",
              "      <td>Gold</td>\n",
              "    </tr>\n",
              "    <tr>\n",
              "      <th>2305</th>\n",
              "      <td>2006</td>\n",
              "      <td>Turin</td>\n",
              "      <td>Skiing</td>\n",
              "      <td>Snowboard</td>\n",
              "      <td>USA</td>\n",
              "      <td>Half-pipe</td>\n",
              "      <td>M</td>\n",
              "      <td>Gold</td>\n",
              "    </tr>\n",
              "    <tr>\n",
              "      <th>2309</th>\n",
              "      <td>2006</td>\n",
              "      <td>Turin</td>\n",
              "      <td>Skiing</td>\n",
              "      <td>Snowboard</td>\n",
              "      <td>USA</td>\n",
              "      <td>Snowboard Cross</td>\n",
              "      <td>M</td>\n",
              "      <td>Gold</td>\n",
              "    </tr>\n",
              "  </tbody>\n",
              "</table>\n",
              "<p>296 rows × 8 columns</p>\n",
              "</div>"
            ],
            "text/plain": [
              "      Year        City       Sport       Discipline  NOC  \\\n",
              "1     1924    Chamonix     Skating   Figure skating  AUT   \n",
              "2     1924    Chamonix     Skating   Figure skating  AUT   \n",
              "4     1924    Chamonix  Ice Hockey       Ice Hockey  CAN   \n",
              "7     1924    Chamonix     Skating    Speed skating  FIN   \n",
              "9     1924    Chamonix     Skating    Speed skating  FIN   \n",
              "10    1924    Chamonix     Skating    Speed skating  FIN   \n",
              "14    1924    Chamonix     Skating    Speed skating  FIN   \n",
              "20    1924    Chamonix     Curling          Curling  GBR   \n",
              "30    1924    Chamonix      Skiing  Cross Country S  NOR   \n",
              "33    1924    Chamonix      Skiing  Cross Country S  NOR   \n",
              "36    1924    Chamonix      Skiing  Nordic Combined  NOR   \n",
              "38    1924    Chamonix      Skiing      Ski Jumping  NOR   \n",
              "40    1924    Chamonix    Biathlon         Biathlon  SUI   \n",
              "41    1924    Chamonix   Bobsleigh        Bobsleigh  SUI   \n",
              "44    1924    Chamonix     Skating   Figure skating  SWE   \n",
              "47    1924    Chamonix     Skating    Speed skating  USA   \n",
              "54    1928  St. Moritz  Ice Hockey       Ice Hockey  CAN   \n",
              "55    1928  St. Moritz     Skating    Speed skating  FIN   \n",
              "58    1928  St. Moritz     Skating    Speed skating  FIN   \n",
              "59    1928  St. Moritz     Skating   Figure skating  FRA   \n",
              "62    1928  St. Moritz     Skating   Figure skating  NOR   \n",
              "66    1928  St. Moritz     Skating    Speed skating  NOR   \n",
              "68    1928  St. Moritz     Skating    Speed skating  NOR   \n",
              "70    1928  St. Moritz      Skiing  Cross Country S  NOR   \n",
              "73    1928  St. Moritz      Skiing  Nordic Combined  NOR   \n",
              "75    1928  St. Moritz      Skiing      Ski Jumping  NOR   \n",
              "79    1928  St. Moritz     Skating   Figure skating  SWE   \n",
              "81    1928  St. Moritz      Skiing  Cross Country S  SWE   \n",
              "84    1928  St. Moritz   Bobsleigh        Bobsleigh  USA   \n",
              "86    1928  St. Moritz   Bobsleigh         Skeleton  USA   \n",
              "...    ...         ...         ...              ...  ...   \n",
              "2078  2006       Turin      Skiing  Nordic Combined  AUT   \n",
              "2087  2006       Turin   Bobsleigh         Skeleton  CAN   \n",
              "2106  2006       Turin      Skiing  Cross Country S  CAN   \n",
              "2122  2006       Turin      Skiing    Alpine Skiing  CRO   \n",
              "2126  2006       Turin      Skiing  Cross Country S  CZE   \n",
              "2130  2006       Turin      Skiing  Cross Country S  EST   \n",
              "2140  2006       Turin    Biathlon         Biathlon  FRA   \n",
              "2143  2006       Turin    Biathlon         Biathlon  FRA   \n",
              "2151  2006       Turin    Biathlon         Biathlon  GER   \n",
              "2157  2006       Turin    Biathlon         Biathlon  GER   \n",
              "2170  2006       Turin     Skating    Speed skating  GER   \n",
              "2175  2006       Turin      Skiing  Nordic Combined  GER   \n",
              "2185  2006       Turin     Skating    Speed skating  ITA   \n",
              "2194  2006       Turin     Skating   Short Track S.  KOR   \n",
              "2196  2006       Turin     Skating   Short Track S.  KOR   \n",
              "2198  2006       Turin     Skating   Short Track S.  KOR   \n",
              "2199  2006       Turin     Skating   Short Track S.  KOR   \n",
              "2235  2006       Turin    Biathlon         Biathlon  RUS   \n",
              "2236  2006       Turin    Biathlon         Biathlon  RUS   \n",
              "2250  2006       Turin      Skiing  Cross Country S  RUS   \n",
              "2265  2006       Turin      Skiing        Snowboard  SUI   \n",
              "2267  2006       Turin      Skiing        Snowboard  SUI   \n",
              "2268  2006       Turin      Skiing        Snowboard  SUI   \n",
              "2270  2006       Turin    Biathlon         Biathlon  SWE   \n",
              "2281  2006       Turin      Skiing  Cross Country S  SWE   \n",
              "2282  2006       Turin      Skiing  Cross Country S  SWE   \n",
              "2283  2006       Turin      Skiing  Cross Country S  SWE   \n",
              "2301  2006       Turin      Skiing    Alpine Skiing  USA   \n",
              "2305  2006       Turin      Skiing        Snowboard  USA   \n",
              "2309  2006       Turin      Skiing        Snowboard  USA   \n",
              "\n",
              "                                Event Event gender Medal  \n",
              "1                          individual            W  Gold  \n",
              "2                               pairs            X  Gold  \n",
              "4                          ice hockey            M  Gold  \n",
              "7                              10000m            M  Gold  \n",
              "9                               1500m            M  Gold  \n",
              "10                              5000m            M  Gold  \n",
              "14                combined (4 events)            M  Gold  \n",
              "20                            curling            M  Gold  \n",
              "30                               18km            M  Gold  \n",
              "33                               50km            M  Gold  \n",
              "36                         individual            M  Gold  \n",
              "38               K90 individual (70m)            M  Gold  \n",
              "40                    military patrol            M  Gold  \n",
              "41                           four-man            M  Gold  \n",
              "44                         individual            M  Gold  \n",
              "47                               500m            M  Gold  \n",
              "54                         ice hockey            M  Gold  \n",
              "55                              1500m            M  Gold  \n",
              "58                               500m            M  Gold  \n",
              "59                              pairs            X  Gold  \n",
              "62                         individual            W  Gold  \n",
              "66                              5000m            M  Gold  \n",
              "68                               500m            M  Gold  \n",
              "70                               18km            M  Gold  \n",
              "73                         individual            M  Gold  \n",
              "75               K90 individual (70m)            M  Gold  \n",
              "79                         individual            M  Gold  \n",
              "81                               50km            M  Gold  \n",
              "84                           five-man            M  Gold  \n",
              "86                         individual            M  Gold  \n",
              "...                               ...          ...   ...  \n",
              "2078                Individual sprint            M  Gold  \n",
              "2087                       individual            M  Gold  \n",
              "2106                     sprint 1.5km            W  Gold  \n",
              "2122                  Alpine combined            W  Gold  \n",
              "2126                             30km            W  Gold  \n",
              "2130  Combined 7.5 + 7.5km mass start            W  Gold  \n",
              "2140                   12.5km pursuit            M  Gold  \n",
              "2143                            7.5km            W  Gold  \n",
              "2151                     10km pursuit            W  Gold  \n",
              "2157                  15km mass start            M  Gold  \n",
              "2170                     Team pursuit            W  Gold  \n",
              "2175                       Individual            M  Gold  \n",
              "2185                     Team pursuit            M  Gold  \n",
              "2194                            1500m            M  Gold  \n",
              "2196                            1500m            W  Gold  \n",
              "2198                      3000m relay            W  Gold  \n",
              "2199                      5000m relay            M  Gold  \n",
              "2235                             15km            W  Gold  \n",
              "2236                      4x6km relay            W  Gold  \n",
              "2250    Combined 15 + 15km mass start            M  Gold  \n",
              "2265            Giant parallel slalom            M  Gold  \n",
              "2267            Giant parallel slalom            W  Gold  \n",
              "2268                  Snowboard Cross            W  Gold  \n",
              "2270                12,5km mass start            W  Gold  \n",
              "2281                     Sprint 1,5km            M  Gold  \n",
              "2282                      Team sprint            M  Gold  \n",
              "2283                      Team sprint            W  Gold  \n",
              "2301                  Alpine combined            M  Gold  \n",
              "2305                        Half-pipe            M  Gold  \n",
              "2309                  Snowboard Cross            M  Gold  \n",
              "\n",
              "[296 rows x 8 columns]"
            ]
          },
          "metadata": {
            "tags": []
          },
          "execution_count": 25
        }
      ]
    },
    {
      "metadata": {
        "id": "1NbdcmPvRV6D",
        "colab_type": "text"
      },
      "cell_type": "markdown",
      "source": [
        "We can easily tally the number of gold medals per event using the pandas DataFrame count() function."
      ]
    },
    {
      "metadata": {
        "id": "Scs70j8GRJzw",
        "colab_type": "code",
        "colab": {}
      },
      "cell_type": "code",
      "source": [
        "golds_by_event = by_event.Medal.count()"
      ],
      "execution_count": 0,
      "outputs": []
    },
    {
      "metadata": {
        "id": "Nr8JCLkaSIAz",
        "colab_type": "text"
      },
      "cell_type": "markdown",
      "source": [
        "Finally, we sort the results. Here are the 10 events with the most gold medals awarded."
      ]
    },
    {
      "metadata": {
        "id": "Fnm19DL0SI37",
        "colab_type": "code",
        "colab": {
          "base_uri": "https://localhost:8080/",
          "height": 221
        },
        "outputId": "90afe4fa-47ea-465a-e71a-0477a3b24895"
      },
      "cell_type": "code",
      "source": [
        "golds_by_event.sort_values(ascending=False)\n",
        "golds_by_event.head(10)"
      ],
      "execution_count": 22,
      "outputs": [
        {
          "output_type": "execute_result",
          "data": {
            "text/plain": [
              "Discipline     Event            \n",
              "Alpine Skiing  Alpine combined       2\n",
              "               alpine combined      14\n",
              "               downhill             32\n",
              "               giant slalom         30\n",
              "               slalom               32\n",
              "               super-G              12\n",
              "Biathlon       10km                  8\n",
              "               10km pursuit          2\n",
              "               12,5km mass start     1\n",
              "               12.5km pursuit        2\n",
              "Name: Medal, dtype: int64"
            ]
          },
          "metadata": {
            "tags": []
          },
          "execution_count": 22
        }
      ]
    },
    {
      "metadata": {
        "id": "zAViciJsT-vu",
        "colab_type": "text"
      },
      "cell_type": "markdown",
      "source": [
        "**Which country has won the most gold, silver, and bronze medals?**   \n",
        "For this question, we need to group and count medals awarded by country code. Because we need sub-totals by medal color, we must group the data by both the NOC and Medal columns. We calculate the medal counts for each group using the resulting DataFrame's size() function, which gives us the number of rows in each group.\n",
        "\n"
      ]
    },
    {
      "metadata": {
        "id": "-vCjpUllSMj1",
        "colab_type": "code",
        "colab": {
          "base_uri": "https://localhost:8080/",
          "height": 221
        },
        "outputId": "36e4d0e8-55ee-425e-89e3-b89bff822779"
      },
      "cell_type": "code",
      "source": [
        "# grouping by country and medal\n",
        "medals_by_country = medals_df.groupby(['NOC','Medal']).size()\n",
        "medals_by_country.head(10)"
      ],
      "execution_count": 29,
      "outputs": [
        {
          "output_type": "execute_result",
          "data": {
            "text/plain": [
              "NOC  Medal \n",
              "AUS  Bronze     3\n",
              "     Gold       3\n",
              "AUT  Bronze    70\n",
              "     Gold      51\n",
              "     Silver    64\n",
              "BEL  Bronze     3\n",
              "     Gold       1\n",
              "     Silver     1\n",
              "BLR  Bronze     3\n",
              "     Silver     3\n",
              "dtype: int64"
            ]
          },
          "metadata": {
            "tags": []
          },
          "execution_count": 29
        }
      ]
    },
    {
      "metadata": {
        "id": "Slbx_WOrUdmF",
        "colab_type": "text"
      },
      "cell_type": "markdown",
      "source": [
        "We want to convert this Series to a DataFrame containing a column for each medal color. Fortunately, this is easy to do using the Series' unstack() function, which pivots the data for us by creating a column for each medal color."
      ]
    },
    {
      "metadata": {
        "id": "lRHVAxfsUgDi",
        "colab_type": "code",
        "colab": {
          "base_uri": "https://localhost:8080/",
          "height": 235
        },
        "outputId": "8310644e-b9be-4d11-dad5-127d8086fd83"
      },
      "cell_type": "code",
      "source": [
        "# converting series to dataframe using unstack\n",
        "medals_by_country_df = medals_by_country.unstack()\n",
        "medals_by_country_df.head()"
      ],
      "execution_count": 30,
      "outputs": [
        {
          "output_type": "execute_result",
          "data": {
            "text/html": [
              "<div>\n",
              "<style scoped>\n",
              "    .dataframe tbody tr th:only-of-type {\n",
              "        vertical-align: middle;\n",
              "    }\n",
              "\n",
              "    .dataframe tbody tr th {\n",
              "        vertical-align: top;\n",
              "    }\n",
              "\n",
              "    .dataframe thead th {\n",
              "        text-align: right;\n",
              "    }\n",
              "</style>\n",
              "<table border=\"1\" class=\"dataframe\">\n",
              "  <thead>\n",
              "    <tr style=\"text-align: right;\">\n",
              "      <th>Medal</th>\n",
              "      <th>Bronze</th>\n",
              "      <th>Gold</th>\n",
              "      <th>Silver</th>\n",
              "    </tr>\n",
              "    <tr>\n",
              "      <th>NOC</th>\n",
              "      <th></th>\n",
              "      <th></th>\n",
              "      <th></th>\n",
              "    </tr>\n",
              "  </thead>\n",
              "  <tbody>\n",
              "    <tr>\n",
              "      <th>AUS</th>\n",
              "      <td>3.0</td>\n",
              "      <td>3.0</td>\n",
              "      <td>NaN</td>\n",
              "    </tr>\n",
              "    <tr>\n",
              "      <th>AUT</th>\n",
              "      <td>70.0</td>\n",
              "      <td>51.0</td>\n",
              "      <td>64.0</td>\n",
              "    </tr>\n",
              "    <tr>\n",
              "      <th>BEL</th>\n",
              "      <td>3.0</td>\n",
              "      <td>1.0</td>\n",
              "      <td>1.0</td>\n",
              "    </tr>\n",
              "    <tr>\n",
              "      <th>BLR</th>\n",
              "      <td>3.0</td>\n",
              "      <td>NaN</td>\n",
              "      <td>3.0</td>\n",
              "    </tr>\n",
              "    <tr>\n",
              "      <th>BUL</th>\n",
              "      <td>3.0</td>\n",
              "      <td>1.0</td>\n",
              "      <td>2.0</td>\n",
              "    </tr>\n",
              "  </tbody>\n",
              "</table>\n",
              "</div>"
            ],
            "text/plain": [
              "Medal  Bronze  Gold  Silver\n",
              "NOC                        \n",
              "AUS       3.0   3.0     NaN\n",
              "AUT      70.0  51.0    64.0\n",
              "BEL       3.0   1.0     1.0\n",
              "BLR       3.0   NaN     3.0\n",
              "BUL       3.0   1.0     2.0"
            ]
          },
          "metadata": {
            "tags": []
          },
          "execution_count": 30
        }
      ]
    },
    {
      "metadata": {
        "id": "gFDLwSZ3UvDd",
        "colab_type": "text"
      },
      "cell_type": "markdown",
      "source": [
        "Many countries do not have medals of every color, so we replace any missing data with a zero value."
      ]
    },
    {
      "metadata": {
        "id": "GLJFEJ4oUnXQ",
        "colab_type": "code",
        "colab": {}
      },
      "cell_type": "code",
      "source": [
        "# filling missing medal values with 0\n",
        "medals_by_country_df.fillna(0, inplace=True)"
      ],
      "execution_count": 0,
      "outputs": []
    },
    {
      "metadata": {
        "id": "Ik390eLVU8m1",
        "colab_type": "text"
      },
      "cell_type": "markdown",
      "source": [
        "Now we can answer our question using yet another DataFrame function, idxmax(), which gives us the index (in this case, the country code) corresponding to the maximum count for each medal color (column in our DataFrame)."
      ]
    },
    {
      "metadata": {
        "id": "u1jLzh7uU3h3",
        "colab_type": "code",
        "colab": {
          "base_uri": "https://localhost:8080/",
          "height": 102
        },
        "outputId": "4911cd9d-d2b4-465f-95bd-260d6955438f"
      },
      "cell_type": "code",
      "source": [
        "# finding index for max count of each medal color\n",
        "medals_by_country_df.idxmax()"
      ],
      "execution_count": 33,
      "outputs": [
        {
          "output_type": "execute_result",
          "data": {
            "text/plain": [
              "Medal\n",
              "Bronze    NOR\n",
              "Gold      NOR\n",
              "Silver    NOR\n",
              "dtype: object"
            ]
          },
          "metadata": {
            "tags": []
          },
          "execution_count": 33
        }
      ]
    },
    {
      "metadata": {
        "id": "EXO6jZC1VRVU",
        "colab_type": "text"
      },
      "cell_type": "markdown",
      "source": [
        "**Plot**   \n",
        "We can use the popular matplotlib package to produce a plot of the results.\n",
        "\n",
        "First, tell the notebook server to render charts inline:"
      ]
    },
    {
      "metadata": {
        "id": "Tqda4h4lVB3v",
        "colab_type": "code",
        "colab": {}
      },
      "cell_type": "code",
      "source": [
        "%matplotlib inline"
      ],
      "execution_count": 0,
      "outputs": []
    },
    {
      "metadata": {
        "id": "DLsXI-q7Vbzk",
        "colab_type": "text"
      },
      "cell_type": "markdown",
      "source": [
        "We sort the results by highest gold medal count."
      ]
    },
    {
      "metadata": {
        "id": "0AvjLmBNVX-3",
        "colab_type": "code",
        "colab": {}
      },
      "cell_type": "code",
      "source": [
        "medals_by_country_df.sort_values('Gold', ascending=False, inplace=True)"
      ],
      "execution_count": 0,
      "outputs": []
    },
    {
      "metadata": {
        "id": "5a4eyOiiVkSj",
        "colab_type": "text"
      },
      "cell_type": "markdown",
      "source": [
        "Now we can use the DataFrame plot() function to produce our plot. We plot individual medal counts for the top 15 countries."
      ]
    },
    {
      "metadata": {
        "id": "X8Dkcc7YVgF_",
        "colab_type": "code",
        "colab": {
          "base_uri": "https://localhost:8080/",
          "height": 635
        },
        "outputId": "af7243ac-b011-4e65-a932-67b7e252e8aa"
      },
      "cell_type": "code",
      "source": [
        "# plotting medal counts for Top 15 countries\n",
        "medals_by_country_df[['Gold','Silver','Bronze']][:15].plot(kind='bar', figsize=(12,10))"
      ],
      "execution_count": 36,
      "outputs": [
        {
          "output_type": "execute_result",
          "data": {
            "text/plain": [
              "<matplotlib.axes._subplots.AxesSubplot at 0x7f49a87f3b38>"
            ]
          },
          "metadata": {
            "tags": []
          },
          "execution_count": 36
        },
        {
          "output_type": "display_data",
          "data": {
            "image/png": "[encoded data removed]",
            "text/plain": [
              "<matplotlib.figure.Figure at 0x7f49a880e048>"
            ]
          },
          "metadata": {
            "tags": []
          }
        }
      ]
    },
    {
      "metadata": {
        "id": "l5yq7K-3WE6O",
        "colab_type": "text"
      },
      "cell_type": "markdown",
      "source": [
        "The plot confirms that Norway has been on every step of the winter olympic podium more than any other country.\n",
        "\n",
        "Let's take a look at another plot: the olympic medals won by Norway over time. To do this, we must filter our original medal data (containing all medal colors) to just those won by Norway, and group by Year. We then count the number of medals for each year. Amazingly, we can do all this in a single line of code."
      ]
    },
    {
      "metadata": {
        "id": "zAvcc0aTV1eO",
        "colab_type": "code",
        "colab": {}
      },
      "cell_type": "code",
      "source": [
        "# medals won by Norway every year\n",
        "nor_medals_year = medals_df[medals_df.NOC == 'NOR'].groupby('Year').size()"
      ],
      "execution_count": 0,
      "outputs": []
    },
    {
      "metadata": {
        "id": "aYJgocd2WR31",
        "colab_type": "code",
        "colab": {
          "base_uri": "https://localhost:8080/",
          "height": 102
        },
        "outputId": "b5165209-bf37-4bf4-a368-a62677fc7d9d"
      },
      "cell_type": "code",
      "source": [
        "nor_medals_year.head(3)"
      ],
      "execution_count": 38,
      "outputs": [
        {
          "output_type": "execute_result",
          "data": {
            "text/plain": [
              "Year\n",
              "1924    17\n",
              "1928    15\n",
              "1932    10\n",
              "dtype: int64"
            ]
          },
          "metadata": {
            "tags": []
          },
          "execution_count": 38
        }
      ]
    },
    {
      "metadata": {
        "id": "VEegbl-lWZS0",
        "colab_type": "text"
      },
      "cell_type": "markdown",
      "source": [
        "We can plot the resulting pandas Series using it's built-in plot() function, which is just a convenience function that wraps matplotlib"
      ]
    },
    {
      "metadata": {
        "id": "X3Oid1sqWVxN",
        "colab_type": "code",
        "colab": {
          "base_uri": "https://localhost:8080/",
          "height": 363
        },
        "outputId": "e6325877-0b4d-4fc3-e4c5-f147075a314c"
      },
      "cell_type": "code",
      "source": [
        "nor_medals_year.plot(kind='bar', figsize=(10,5))"
      ],
      "execution_count": 39,
      "outputs": [
        {
          "output_type": "execute_result",
          "data": {
            "text/plain": [
              "<matplotlib.axes._subplots.AxesSubplot at 0x7f49a8911d30>"
            ]
          },
          "metadata": {
            "tags": []
          },
          "execution_count": 39
        },
        {
          "output_type": "display_data",
          "data": {
            "image/png": "[encoded data removed]",
            "text/plain": [
              "<matplotlib.figure.Figure at 0x7f49a8911630>"
            ]
          },
          "metadata": {
            "tags": []
          }
        }
      ]
    },
    {
      "metadata": {
        "id": "DTYVoAOoWuJP",
        "colab_type": "text"
      },
      "cell_type": "markdown",
      "source": [
        "**Third-Party Visualization Libraries**   \n",
        "It is relatively easy to create plots quickly using pandas and matplotlib. If you want to take your plots to the next level in terms of enhanced presentation, it is possible to install third-party libraries to help you.\n",
        "\n",
        "One such library is **prettyplotlib**, which enhances matplotlib plots with better default colors, etc. This can be extremely valuable if your notebook is to be used for presentations.   \n",
        "Here we use the shorthand IPython cell magic (!) to invoke pip to install prettyplotlib."
      ]
    },
    {
      "metadata": {
        "id": "FFUBm5ORWe3t",
        "colab_type": "code",
        "colab": {}
      },
      "cell_type": "code",
      "source": [
        "# Install third party color palette \n",
        "!pip install prettyplotlib"
      ],
      "execution_count": 0,
      "outputs": []
    },
    {
      "metadata": {
        "id": "VBdvtWHbW8ap",
        "colab_type": "text"
      },
      "cell_type": "markdown",
      "source": [
        "Now we create a color palette..."
      ]
    },
    {
      "metadata": {
        "id": "s9aGT6xAW5xE",
        "colab_type": "code",
        "colab": {}
      },
      "cell_type": "code",
      "source": [
        "# Use color palette \"Set3\" from http://bl.ocks.org/mbostock/5577023\n",
        "import brewer2mpl\n",
        "set3 = brewer2mpl.get_map('Set3', 'qualitative', 10).mpl_colors"
      ],
      "execution_count": 0,
      "outputs": []
    },
    {
      "metadata": {
        "id": "2FMZFuGrXKJ9",
        "colab_type": "text"
      },
      "cell_type": "markdown",
      "source": [
        "..and use it to generate a pretty pie chart showing the percent of all medals awarded to the top 10 countries."
      ]
    },
    {
      "metadata": {
        "id": "rlBXTz7WXLU1",
        "colab_type": "code",
        "colab": {
          "base_uri": "https://localhost:8080/",
          "height": 253
        },
        "outputId": "3fce39a9-e9e9-48bb-aa9a-12eb77b7afed"
      },
      "cell_type": "code",
      "source": [
        "# Plot the top 10 countries based on podium appearances.\n",
        "import pylab as plt\n",
        "# Calculate the total medals for each country\n",
        "t = medals_by_country_df.sum(axis=1)\n",
        "# Limit to top 10 medal-winning countries\n",
        "t.sort_values(ascending=False)\n",
        "awards = t[:10]\n",
        "countries = awards.index.values\n",
        "total = float(t.sum())\n",
        "# Create a pie chart\n",
        "pct = lambda x: '{p:1.1f}%'.format(p=(x*sum(awards)/100)/total*100)\n",
        "plt.pie(awards, labels=countries, shadow=True, \n",
        "        autopct=pct, colors=set3, startangle=90)\n",
        "# Set aspect ratio to be equal so that pie is drawn as a circle.\n",
        "plt.axis('equal')\n",
        "plt.show()"
      ],
      "execution_count": 42,
      "outputs": [
        {
          "output_type": "display_data",
          "data": {
            "image/png": "[encoded data removed]",
            "text/plain": [
              "<matplotlib.figure.Figure at 0x7f49a57876d8>"
            ]
          },
          "metadata": {
            "tags": []
          }
        }
      ]
    },
    {
      "metadata": {
        "id": "XFPcyWFvX3QH",
        "colab_type": "text"
      },
      "cell_type": "markdown",
      "source": [
        "If we need further instruction on how to create visualizations in IPython notebook, there is content available online. Here is an example. The video below represents a resource for visual programming using matplotlib.\n",
        "\n",
        "Note: The code cell below shows one way we can embed a video in  notebook."
      ]
    },
    {
      "metadata": {
        "id": "AUBcYahBX9cg",
        "colab_type": "code",
        "colab": {
          "base_uri": "https://localhost:8080/",
          "height": 321
        },
        "outputId": "35c85e3d-8d5b-4c28-aeb0-dd7d914b57f9"
      },
      "cell_type": "code",
      "source": [
        "from IPython.display import YouTubeVideo\n",
        "# Matplotlib Python Tutorial Part 1: Basics and your first Graph!\n",
        "# Tutorial series by Sentdex - http://sentdex.com/about-us/\n",
        "YouTubeVideo('wAwQ-noyB98')"
      ],
      "execution_count": 43,
      "outputs": [
        {
          "output_type": "execute_result",
          "data": {
            "text/html": [
              "\n",
              "        <iframe\n",
              "            width=\"400\"\n",
              "            height=\"300\"\n",
              "            src=\"https://www.youtube.com/embed/wAwQ-noyB98\"\n",
              "            frameborder=\"0\"\n",
              "            allowfullscreen\n",
              "        ></iframe>\n",
              "        "
            ],
            "text/plain": [
              "<IPython.lib.display.YouTubeVideo at 0x7f49a5696c88>"
            ],
            "image/jpeg": "[encoded data removed]"
          },
          "metadata": {
            "tags": []
          },
          "execution_count": 43
        }
      ]
    }
  ]
}