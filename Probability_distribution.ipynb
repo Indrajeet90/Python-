{
  "nbformat": 4,
  "nbformat_minor": 0,
  "metadata": {
    "colab": {
      "name": "Probability distribution.ipynb",
      "version": "0.3.2",
      "provenance": [],
      "collapsed_sections": [],
      "include_colab_link": true
    },
    "kernelspec": {
      "name": "python3",
      "display_name": "Python 3"
    }
  },
  "cells": [
    {
      "cell_type": "markdown",
      "metadata": {
        "id": "view-in-github",
        "colab_type": "text"
      },
      "source": [
        "[View in Colaboratory](https://colab.research.google.com/github/Indrajeet90/Python-/blob/master/Probability_distribution.ipynb)"
      ]
    },
    {
      "metadata": {
        "id": "JQ4f-FO9h9Xm",
        "colab_type": "text"
      },
      "cell_type": "markdown",
      "source": [
        "**Analyze data**"
      ]
    },
    {
      "metadata": {
        "id": "TUrZ8kwOYsel",
        "colab_type": "code",
        "colab": {}
      },
      "cell_type": "code",
      "source": [
        "import pandas as pd\n",
        "medals_df = pd.read_csv('medals.csv')\n",
        "# Prune non-data rows\n",
        "medals_df = medals_df.dropna()"
      ],
      "execution_count": 0,
      "outputs": []
    },
    {
      "metadata": {
        "id": "9TEC1Wm8iUDw",
        "colab_type": "text"
      },
      "cell_type": "markdown",
      "source": [
        "**Plot Medal Count per Year (Norway)**"
      ]
    },
    {
      "metadata": {
        "id": "VbhUUY8kiHPe",
        "colab_type": "code",
        "colab": {}
      },
      "cell_type": "code",
      "source": [
        "import matplotlib as plt\n",
        "%matplotlib inline\n",
        "nor_medals_year = medals_df[medals_df.NOC == 'NOR'].groupby('Year').size()"
      ],
      "execution_count": 0,
      "outputs": []
    },
    {
      "metadata": {
        "id": "gl5piFlfiqDJ",
        "colab_type": "text"
      },
      "cell_type": "markdown",
      "source": [
        "**Analysis: Probable Medal Count**   \n",
        "If it were January 2010, and we had a Norwegian friend that insisted to know the answer to the question, \"How many medals do you think Norway will win in this year's olympics?\", what should we tell her? What if she asked  the same question in January 1988. Would the same answer be the same?\n",
        "\n",
        "Looking at the medal count per games for Norway, one can  notice that something changed circa 1992, and Norwegian olympians began to win more medals in every winter olympics since then. We would not likely have given Norway much chance at all to win 20 medals in 1988, but in 2010, the chances that Norway would win 20 medals seems a good bit higher."
      ]
    },
    {
      "metadata": {
        "id": "mLaUIA6EjLy3",
        "colab_type": "text"
      },
      "cell_type": "markdown",
      "source": [
        "**Probability Distribution**    \n",
        "We will provide our friend with a probability distribution for Norway's medal counts.\n",
        "\n",
        "Let M be the medal count awarded to a country during an olympic games competition. Assume that M is a random variable . We further assume that there exists a function that gives the probability that each medal count occurs. Because medal count is discrete, this function is known as a probability mass function.\n",
        "\n",
        "We assume that the probability mass function that governs medal count follows a Poisson distribution. That is, the probability of the medal count M is equal to the number of medals n is governed by the equation:\n",
        "\n",
        "$$P(M = n) =\\frac{ \\lambda^n e^{-\\lambda} }{n!}, \\; \\; n=0,1,2, \\dots $$\n",
        " \n",
        "From the equation, we can see the probability is dependent on  λ .  λ  is what we need to find to produce the medal count probability distribution for your Norwegian friend.\n",
        "\n",
        "The value of $\\lambda$ determines the shape of the probability distribution.  Two very different $\\lambda$s will produce two very different distributions.  To illustrate this, we will plot a Poisson distribution with two different values of $\\lambda$."
      ]
    },
    {
      "metadata": {
        "id": "EQiGVK1KjzaQ",
        "colab_type": "code",
        "colab": {
          "base_uri": "https://localhost:8080/",
          "height": 349
        },
        "outputId": "94f4e7d3-9f19-40cb-a350-0cff6436e0fb"
      },
      "cell_type": "code",
      "source": [
        "from IPython.core.pylabtools import figsize\n",
        "import numpy as np\n",
        "from matplotlib import pyplot as plt\n",
        "plt.rcParams['axes.facecolor'] = '#F5F5F5'\n",
        "\n",
        "figsize(10,5)\n",
        "\n",
        "import scipy.stats as stats\n",
        "a = np.arange(30)\n",
        "poi = stats.poisson\n",
        "lambdas = [2.5, 14.5]\n",
        "colors = [\"#ba0b68\", \"#3a8c94\"]\n",
        "\n",
        "# plot a Poisson distribution for each lambda\n",
        "for lambda_, color in zip(lambdas, colors):\n",
        "    plt.bar(a, poi.pmf(a, lambda_), color=color,\n",
        "            label=\"$\\lambda = %.1f$\" % lambda_, alpha=0.50,\n",
        "            edgecolor=color, lw=1.5)\n",
        "\n",
        "plt.title(\"Probability mass function of a Poisson random variable\")\n",
        "plt.legend()\n",
        "plt.grid()\n",
        "plt.ylabel(\"probability of $n$\")\n",
        "plt.xticks(a + 0.4, a)\n",
        "plt.xlabel(\"$n$\")\n",
        "plt.show()"
      ],
      "execution_count": 4,
      "outputs": [
        {
          "output_type": "display_data",
          "data": {
            "image/png": "[encoded data removed]",
            "text/plain": [
              "<matplotlib.figure.Figure at 0x7f83b7269cf8>"
            ]
          },
          "metadata": {
            "tags": []
          }
        }
      ]
    },
    {
      "metadata": {
        "id": "HIhEDbcnk6SU",
        "colab_type": "text"
      },
      "cell_type": "markdown",
      "source": [
        "The lower value of  **λ  = 2.5** would produce higher probabilities for lower medal counts (25% chance of winning 2 medals, but virtually no chance of winning 15 medals), whereas the higher  **λ  = 14.5 **would assign higher probabilities for higher medal counts (virtually no chance of winning 0 medals, but much greater chance of a medal count in the teens).\n",
        "\n",
        "So what is  λ  for Norway's medal count? Well, from Norway's historical medal count plot, we observed that something changed in 1992, so we suspect that Norway's historical medal count is actually governed by two different values of  λ : the  λ1  pre-1992 olympics, and the  λ2  post-1992 olympics. In other words,\n",
        "\n",
        "$$\n",
        "\\lambda = \n",
        "\\begin{cases}\n",
        "\\lambda_1  & \\text{if } t \\lt \\tau \\cr\n",
        "\\lambda_2 & \\text{if } t \\ge \\tau\n",
        "\\end{cases}\n",
        "$$\n",
        "where  τ  is the switchpoint. (we observe that  τ  appears to be the 1992 olympic games, but we're going to let the math prove it)."
      ]
    },
    {
      "metadata": {
        "id": "9exLJxBZllcb",
        "colab_type": "text"
      },
      "cell_type": "markdown",
      "source": [
        "**Bayesian Inference**  \n",
        "Bayesian inference attempts to derive posterior probabilities from prior probabilities and a likelihood function. We want to predict 2010 medal count probabilities from historical medal count probabilities and a model representing how likely the new probabilities are to occur.\n",
        "\n",
        "We need to create:\n",
        "\n",
        "*   prior probabilities of medal counts\n",
        "*   a model (comprised of  τ ,  λ1 , and  λ2 ) that represents the likelihood of the posterior probabilities   \n",
        "To do all this, we will install PyMC, a Python library for performing Bayesian analysis."
      ]
    },
    {
      "metadata": {
        "id": "G0d4aBVTjHy3",
        "colab_type": "code",
        "colab": {
          "base_uri": "https://localhost:8080/",
          "height": 170
        },
        "outputId": "fcedff9d-8075-4e5a-a692-d6835a27f5fe"
      },
      "cell_type": "code",
      "source": [
        "# installing PyMC\n",
        "!pip install pymc"
      ],
      "execution_count": 5,
      "outputs": [
        {
          "output_type": "stream",
          "text": [
            "Collecting pymc\n",
            "\u001b[?25l  Downloading https://files.pythonhosted.org/packages/0c/1c/2eb7016284e04ccf401fdcf11b817b160629cf8cf230240ceb348311ac2e/pymc-2.3.6.tar.gz (348kB)\n",
            "\u001b[K    100% |████████████████████████████████| 358kB 8.7MB/s \n",
            "\u001b[?25hBuilding wheels for collected packages: pymc\n",
            "  Running setup.py bdist_wheel for pymc ... \u001b[?25l-\b \b\\\b \b|\b \b/\b \b-\b \b\\\b \b|\b \b/\b \b-\b \b\\\b \b|\b \b/\b \b-\b \b\\\b \b|\b \b/\b \b-\b \b\\\b \b|\b \b/\b \b-\b \b\\\b \b|\b \b/\b \b-\b \b\\\b \b|\b \bdone\n",
            "\u001b[?25h  Stored in directory: /root/.cache/pip/wheels/e4/6d/cf/3c408a39cf0f43e3b8abcace9758575f29c6aa860e17e9222d\n",
            "Successfully built pymc\n",
            "Installing collected packages: pymc\n",
            "Successfully installed pymc-2.3.6\n"
          ],
          "name": "stdout"
        }
      ]
    },
    {
      "metadata": {
        "id": "LimpLRz4mN66",
        "colab_type": "text"
      },
      "cell_type": "markdown",
      "source": [
        "We will now create a model using the prior Norway medal counts."
      ]
    },
    {
      "metadata": {
        "id": "6dH9Mp39mREg",
        "colab_type": "code",
        "colab": {}
      },
      "cell_type": "code",
      "source": [
        "import pymc as pm\n",
        "import numpy as np\n",
        "\n",
        "def make_model(data):\n",
        "    '''\n",
        "    Create a model for use in predicting lambda_1, lambda_2, and tau,\n",
        "    which combine to create our posterior probability distributions\n",
        "    (one before tau, and one after tau).\n",
        "    '''\n",
        "    # prior lambda estimates\n",
        "    alpha = 1.0 / data.mean() \n",
        "    lambda_1 = pm.Exponential(\"lambda_1\", alpha)\n",
        "    lambda_2 = pm.Exponential(\"lambda_2\", alpha)\n",
        "    # prior tau estimates\n",
        "    tau = pm.DiscreteUniform(\"tau\", lower=0, upper=len(data))\n",
        "\n",
        "    @pm.deterministic\n",
        "    def lambda_(tau=tau, lambda_1=lambda_1, lambda_2=lambda_2):\n",
        "        '''Create random value of lambda, based on prior lambda.'''\n",
        "        out = np.zeros(len(data))\n",
        "        out[:tau] = lambda_1  # lambda before tau\n",
        "        out[tau:] = lambda_2  # lambda after (and including) tau\n",
        "        return out\n",
        "    \n",
        "    # lambda is Poisson distributed\n",
        "    observation = pm.Poisson(\"obs\", lambda_, value=data.values, observed=True)\n",
        "\n",
        "    model = pm.Model([observation, lambda_1, lambda_2, tau])\n",
        "    return model"
      ],
      "execution_count": 0,
      "outputs": []
    },
    {
      "metadata": {
        "id": "SNE50gXqmyl_",
        "colab_type": "code",
        "colab": {}
      },
      "cell_type": "code",
      "source": [
        "# using the custom function to create Bayesian model\n",
        "model = make_model(nor_medals_year)"
      ],
      "execution_count": 0,
      "outputs": []
    },
    {
      "metadata": {
        "id": "90gkFni9nAwI",
        "colab_type": "text"
      },
      "cell_type": "markdown",
      "source": [
        "The next step is to use PyMC's Markov chain Monte Carlo (MCMC) object to sample thousands of random possibilities of  λ1 ,  λ2 , and  τ , and collect samples (also random) of posterior values of each."
      ]
    },
    {
      "metadata": {
        "id": "3Y6aInAsnB2I",
        "colab_type": "code",
        "colab": {
          "base_uri": "https://localhost:8080/",
          "height": 34
        },
        "outputId": "f185abb2-cfe7-4a75-e319-643dcbbe4b12"
      },
      "cell_type": "code",
      "source": [
        "mcmc = pm.MCMC(model)\n",
        "mcmc.sample(50000, 10000, 1)"
      ],
      "execution_count": 8,
      "outputs": [
        {
          "output_type": "stream",
          "text": [
            " [-----------------100%-----------------] 50000 of 50000 complete in 7.4 sec"
          ],
          "name": "stdout"
        }
      ]
    },
    {
      "metadata": {
        "id": "icdmYyD8nOK6",
        "colab_type": "text"
      },
      "cell_type": "markdown",
      "source": [
        "The output of the PyMC MCMC algorithm is called a trace, which is the sequence of retained samples for each variable in the model. Here you extract the last set of samples for each variable."
      ]
    },
    {
      "metadata": {
        "id": "svrrvk6InFvK",
        "colab_type": "code",
        "colab": {}
      },
      "cell_type": "code",
      "source": [
        "lambda_1_samples = mcmc.trace('lambda_1')[:]\n",
        "lambda_2_samples = mcmc.trace('lambda_2')[:]\n",
        "tau_samples = mcmc.trace('tau')[:]"
      ],
      "execution_count": 0,
      "outputs": []
    },
    {
      "metadata": {
        "id": "LvXA1-BYnVSv",
        "colab_type": "text"
      },
      "cell_type": "markdown",
      "source": [
        "We can now plot the samples to give us the posterior probabilities of λ1, λ2, τ."
      ]
    },
    {
      "metadata": {
        "id": "dbrT4RvenNta",
        "colab_type": "code",
        "colab": {
          "base_uri": "https://localhost:8080/",
          "height": 639
        },
        "outputId": "887a242c-0af5-43e6-9b8b-a33daff3eabc"
      },
      "cell_type": "code",
      "source": [
        "# our data\n",
        "data = nor_medals_year\n",
        "n_data = len(data)\n",
        "years = data.index.values\n",
        "\n",
        "figsize(8, 10)\n",
        "xticks = np.arange(0, 31, 1)\n",
        "yticks = np.arange(0.0, 1.1, 0.1)\n",
        "\n",
        "# lambda_1\n",
        "ax = plt.subplot(311)\n",
        "ax.set_autoscaley_on(False)\n",
        "plt.hist(lambda_1_samples, histtype='stepfilled', bins=30, alpha=0.65,\n",
        "         label=\"Posterior of $\\lambda_1$\", color=\"#ba053e\", normed=True)\n",
        "plt.legend(loc=\"upper left\")\n",
        "plt.xticks(xticks)\n",
        "plt.yticks(yticks)\n",
        "plt.xlabel(\"$\\lambda_1$ value\")\n",
        "plt.ylabel(\"probability\");\n",
        "plt.title(r\"\"\"Posterior distributions of $\\lambda_1,\\;\\lambda_2,\\;\\tau$\"\"\")\n",
        "plt.grid()\n",
        "\n",
        "# lambda_2\n",
        "ax = plt.subplot(312)\n",
        "ax.set_autoscaley_on(False)\n",
        "plt.hist(lambda_2_samples, histtype='stepfilled', bins=30, alpha=0.65,\n",
        "         label=\"posterior of $\\lambda_2$\", color=\"#21d199\", normed=True)\n",
        "plt.legend(loc=\"upper left\")\n",
        "plt.xticks(xticks)\n",
        "plt.xlim([xticks.min(), xticks.max()])\n",
        "plt.yticks(yticks)\n",
        "plt.xlabel(\"$\\lambda_2$ value\")\n",
        "plt.ylabel(\"probability\");\n",
        "plt.grid()\n",
        "\n",
        "# tau\n",
        "ax = plt.subplot(313)\n",
        "w = 1.0 / tau_samples.shape[0] * np.ones_like(tau_samples)\n",
        "plt.hist(tau_samples, bins=n_data, alpha=1,\n",
        "         label=r\"posterior of $\\tau$\",\n",
        "         color=\"#fcfc3f\", weights=w, rwidth=2.)\n",
        "plt.legend(loc=\"upper left\")\n",
        "plt.xticks(np.arange(n_data), years, rotation='vertical')\n",
        "plt.yticks(yticks)\n",
        "plt.xlabel(r\"$\\tau$ (year of games)\")\n",
        "plt.ylabel(\"probability\");\n",
        "plt.grid()"
      ],
      "execution_count": 10,
      "outputs": [
        {
          "output_type": "display_data",
          "data": {
            "image/png": "[encoded data removed]",
            "text/plain": [
              "<matplotlib.figure.Figure at 0x7f83b01f90b8>"
            ]
          },
          "metadata": {
            "tags": []
          }
        }
      ]
    },
    {
      "metadata": {
        "id": "jZGy-K2BoQAl",
        "colab_type": "text"
      },
      "cell_type": "markdown",
      "source": [
        "**Results**  \n",
        "The first plot shows  λ1  is about 11, and the probability that Norway wins 11 medals in the 1988 winter olympics would have been nearly 50%. Further, the distribution of this plot is narrow, meaning there was low uncertainty in getting a medal count outside of the 9 to 13 range. Unfortunately, if we based your prediction on these results, you would have been way off. 1988 was the first and only time Norway failed to win a gold medal in the winter olympics. Norway took home a mere 5 medals. (It is important to note that the Poisson distribution is infinite. That is, there was a probability, however small, of Norway winning 5 medals.)"
      ]
    },
    {
      "metadata": {
        "id": "Ns34QJghn4-h",
        "colab_type": "code",
        "colab": {
          "base_uri": "https://localhost:8080/",
          "height": 34
        },
        "outputId": "684b9af3-10cb-4c3f-c99d-f36c87529f51"
      },
      "cell_type": "code",
      "source": [
        "nor_medals_year['1988']"
      ],
      "execution_count": 11,
      "outputs": [
        {
          "output_type": "execute_result",
          "data": {
            "text/plain": [
              "5"
            ]
          },
          "metadata": {
            "tags": []
          },
          "execution_count": 11
        }
      ]
    },
    {
      "metadata": {
        "id": "1Xxe6dddos_E",
        "colab_type": "text"
      },
      "cell_type": "markdown",
      "source": [
        "How well  have we predicted the 2010 medal count? Looking at the second plot, the value of  λ2  is about 23. The uncertainty is greater, as indicated by the wider distribution, so the highest probability was about 20% (to win 23 medals). There was a combined probability of about 50% to win either 22, 23, or 24 medals. As it turns out, Norway won 23 medals in the 2010 winter olympics. Nice work!\n",
        "\n",
        "What about  τ ? Our model validated  earlier observation that something changed in the winter olympic games starting in 1992. The third plot shows a greater than 90% chance of a change occurring that year. If there was no change, and  λ1  and  λ2 turned out to be similar, then the two distributions would have looked the same."
      ]
    }
  ]
}